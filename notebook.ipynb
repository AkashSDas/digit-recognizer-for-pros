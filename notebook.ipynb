{
 "cells": [
  {
   "cell_type": "markdown",
   "metadata": {
    "papermill": {
     "duration": 0.031762,
     "end_time": "2021-04-03T15:22:41.266695",
     "exception": false,
     "start_time": "2021-04-03T15:22:41.234933",
     "status": "completed"
    },
    "tags": []
   },
   "source": [
    "# Digit Recognizer for Pros\n",
    "\n",
    "[Digit Recognizer](https://www.kaggle.com/c/digit-recognizer) is a `Kaggle` competition where using the dataset you have to create a `classifier` that can classify handwritten images into digits.\n",
    "\n",
    "Here `no pre-trained CNN or predefined architecture` is used, this is a `custom` CNN architecture.\n",
    "\n",
    "**While doing this we'll go through**\n",
    "- Data augmentation using `ImageDataGenerator`\n",
    "- Building `custom` CNN architecture\n",
    "- Visualizing CNN (`filters` and `feature maps`)"
   ]
  },
  {
   "cell_type": "code",
   "execution_count": 1,
   "metadata": {
    "execution": {
     "iopub.execute_input": "2021-04-03T15:22:41.332746Z",
     "iopub.status.busy": "2021-04-03T15:22:41.332037Z",
     "iopub.status.idle": "2021-04-03T15:22:42.536394Z",
     "shell.execute_reply": "2021-04-03T15:22:42.535869Z"
    },
    "papermill": {
     "duration": 1.240305,
     "end_time": "2021-04-03T15:22:42.536503",
     "exception": false,
     "start_time": "2021-04-03T15:22:41.296198",
     "status": "completed"
    },
    "tags": []
   },
   "outputs": [],
   "source": [
    "import itertools\n",
    "\n",
    "import numpy as np\n",
    "import pandas as pd\n",
    "import seaborn as sns\n",
    "import matplotlib.pyplot as plt\n",
    "\n",
    "import tensorflow as tf\n",
    "from tensorflow import keras\n",
    "\n",
    "from tensorflow.keras import Sequential, Model\n",
    "from tensorflow.keras.optimizers import Adam\n",
    "from tensorflow.keras.callbacks import ReduceLROnPlateau\n",
    "from tensorflow.keras.layers import Flatten, Dense, Conv2D, Lambda, MaxPooling2D, Dropout, BatchNormalization\n",
    "\n",
    "from tensorflow.keras.preprocessing.image import ImageDataGenerator\n",
    "\n",
    "from sklearn.metrics import confusion_matrix\n",
    "from sklearn.model_selection import train_test_split"
   ]
  },
  {
   "cell_type": "code",
   "execution_count": 2,
   "metadata": {
    "execution": {
     "iopub.execute_input": "2021-04-03T15:22:42.626630Z",
     "iopub.status.busy": "2021-04-03T15:22:42.625973Z",
     "iopub.status.idle": "2021-04-03T15:22:48.036094Z",
     "shell.execute_reply": "2021-04-03T15:22:48.034998Z"
    },
    "papermill": {
     "duration": 5.463837,
     "end_time": "2021-04-03T15:22:48.036221",
     "exception": false,
     "start_time": "2021-04-03T15:22:42.572384",
     "status": "completed"
    },
    "tags": []
   },
   "outputs": [],
   "source": [
    "# Loading the dataset\n",
    "train_df = pd.read_csv('/kaggle/input/digit-recognizer/train.csv')\n",
    "test_df  = pd.read_csv('/kaggle/input/digit-recognizer/test.csv')"
   ]
  },
  {
   "cell_type": "code",
   "execution_count": 3,
   "metadata": {
    "execution": {
     "iopub.execute_input": "2021-04-03T15:22:48.110925Z",
     "iopub.status.busy": "2021-04-03T15:22:48.110101Z",
     "iopub.status.idle": "2021-04-03T15:22:48.121196Z",
     "shell.execute_reply": "2021-04-03T15:22:48.121601Z"
    },
    "papermill": {
     "duration": 0.055167,
     "end_time": "2021-04-03T15:22:48.121707",
     "exception": false,
     "start_time": "2021-04-03T15:22:48.066540",
     "status": "completed"
    },
    "tags": []
   },
   "outputs": [
    {
     "data": {
      "text/html": [
       "<div>\n",
       "<style scoped>\n",
       "    .dataframe tbody tr th:only-of-type {\n",
       "        vertical-align: middle;\n",
       "    }\n",
       "\n",
       "    .dataframe tbody tr th {\n",
       "        vertical-align: top;\n",
       "    }\n",
       "\n",
       "    .dataframe thead th {\n",
       "        text-align: right;\n",
       "    }\n",
       "</style>\n",
       "<table border=\"1\" class=\"dataframe\">\n",
       "  <thead>\n",
       "    <tr style=\"text-align: right;\">\n",
       "      <th></th>\n",
       "      <th>label</th>\n",
       "      <th>pixel0</th>\n",
       "      <th>pixel1</th>\n",
       "      <th>pixel2</th>\n",
       "      <th>pixel3</th>\n",
       "      <th>pixel4</th>\n",
       "      <th>pixel5</th>\n",
       "      <th>pixel6</th>\n",
       "      <th>pixel7</th>\n",
       "      <th>pixel8</th>\n",
       "      <th>...</th>\n",
       "      <th>pixel774</th>\n",
       "      <th>pixel775</th>\n",
       "      <th>pixel776</th>\n",
       "      <th>pixel777</th>\n",
       "      <th>pixel778</th>\n",
       "      <th>pixel779</th>\n",
       "      <th>pixel780</th>\n",
       "      <th>pixel781</th>\n",
       "      <th>pixel782</th>\n",
       "      <th>pixel783</th>\n",
       "    </tr>\n",
       "  </thead>\n",
       "  <tbody>\n",
       "    <tr>\n",
       "      <th>0</th>\n",
       "      <td>1</td>\n",
       "      <td>0</td>\n",
       "      <td>0</td>\n",
       "      <td>0</td>\n",
       "      <td>0</td>\n",
       "      <td>0</td>\n",
       "      <td>0</td>\n",
       "      <td>0</td>\n",
       "      <td>0</td>\n",
       "      <td>0</td>\n",
       "      <td>...</td>\n",
       "      <td>0</td>\n",
       "      <td>0</td>\n",
       "      <td>0</td>\n",
       "      <td>0</td>\n",
       "      <td>0</td>\n",
       "      <td>0</td>\n",
       "      <td>0</td>\n",
       "      <td>0</td>\n",
       "      <td>0</td>\n",
       "      <td>0</td>\n",
       "    </tr>\n",
       "    <tr>\n",
       "      <th>1</th>\n",
       "      <td>0</td>\n",
       "      <td>0</td>\n",
       "      <td>0</td>\n",
       "      <td>0</td>\n",
       "      <td>0</td>\n",
       "      <td>0</td>\n",
       "      <td>0</td>\n",
       "      <td>0</td>\n",
       "      <td>0</td>\n",
       "      <td>0</td>\n",
       "      <td>...</td>\n",
       "      <td>0</td>\n",
       "      <td>0</td>\n",
       "      <td>0</td>\n",
       "      <td>0</td>\n",
       "      <td>0</td>\n",
       "      <td>0</td>\n",
       "      <td>0</td>\n",
       "      <td>0</td>\n",
       "      <td>0</td>\n",
       "      <td>0</td>\n",
       "    </tr>\n",
       "    <tr>\n",
       "      <th>2</th>\n",
       "      <td>1</td>\n",
       "      <td>0</td>\n",
       "      <td>0</td>\n",
       "      <td>0</td>\n",
       "      <td>0</td>\n",
       "      <td>0</td>\n",
       "      <td>0</td>\n",
       "      <td>0</td>\n",
       "      <td>0</td>\n",
       "      <td>0</td>\n",
       "      <td>...</td>\n",
       "      <td>0</td>\n",
       "      <td>0</td>\n",
       "      <td>0</td>\n",
       "      <td>0</td>\n",
       "      <td>0</td>\n",
       "      <td>0</td>\n",
       "      <td>0</td>\n",
       "      <td>0</td>\n",
       "      <td>0</td>\n",
       "      <td>0</td>\n",
       "    </tr>\n",
       "    <tr>\n",
       "      <th>3</th>\n",
       "      <td>4</td>\n",
       "      <td>0</td>\n",
       "      <td>0</td>\n",
       "      <td>0</td>\n",
       "      <td>0</td>\n",
       "      <td>0</td>\n",
       "      <td>0</td>\n",
       "      <td>0</td>\n",
       "      <td>0</td>\n",
       "      <td>0</td>\n",
       "      <td>...</td>\n",
       "      <td>0</td>\n",
       "      <td>0</td>\n",
       "      <td>0</td>\n",
       "      <td>0</td>\n",
       "      <td>0</td>\n",
       "      <td>0</td>\n",
       "      <td>0</td>\n",
       "      <td>0</td>\n",
       "      <td>0</td>\n",
       "      <td>0</td>\n",
       "    </tr>\n",
       "    <tr>\n",
       "      <th>4</th>\n",
       "      <td>0</td>\n",
       "      <td>0</td>\n",
       "      <td>0</td>\n",
       "      <td>0</td>\n",
       "      <td>0</td>\n",
       "      <td>0</td>\n",
       "      <td>0</td>\n",
       "      <td>0</td>\n",
       "      <td>0</td>\n",
       "      <td>0</td>\n",
       "      <td>...</td>\n",
       "      <td>0</td>\n",
       "      <td>0</td>\n",
       "      <td>0</td>\n",
       "      <td>0</td>\n",
       "      <td>0</td>\n",
       "      <td>0</td>\n",
       "      <td>0</td>\n",
       "      <td>0</td>\n",
       "      <td>0</td>\n",
       "      <td>0</td>\n",
       "    </tr>\n",
       "  </tbody>\n",
       "</table>\n",
       "<p>5 rows × 785 columns</p>\n",
       "</div>"
      ],
      "text/plain": [
       "   label  pixel0  pixel1  pixel2  pixel3  pixel4  pixel5  pixel6  pixel7  \\\n",
       "0      1       0       0       0       0       0       0       0       0   \n",
       "1      0       0       0       0       0       0       0       0       0   \n",
       "2      1       0       0       0       0       0       0       0       0   \n",
       "3      4       0       0       0       0       0       0       0       0   \n",
       "4      0       0       0       0       0       0       0       0       0   \n",
       "\n",
       "   pixel8  ...  pixel774  pixel775  pixel776  pixel777  pixel778  pixel779  \\\n",
       "0       0  ...         0         0         0         0         0         0   \n",
       "1       0  ...         0         0         0         0         0         0   \n",
       "2       0  ...         0         0         0         0         0         0   \n",
       "3       0  ...         0         0         0         0         0         0   \n",
       "4       0  ...         0         0         0         0         0         0   \n",
       "\n",
       "   pixel780  pixel781  pixel782  pixel783  \n",
       "0         0         0         0         0  \n",
       "1         0         0         0         0  \n",
       "2         0         0         0         0  \n",
       "3         0         0         0         0  \n",
       "4         0         0         0         0  \n",
       "\n",
       "[5 rows x 785 columns]"
      ]
     },
     "execution_count": 3,
     "metadata": {},
     "output_type": "execute_result"
    }
   ],
   "source": [
    "train_df.head()"
   ]
  },
  {
   "cell_type": "code",
   "execution_count": 4,
   "metadata": {
    "execution": {
     "iopub.execute_input": "2021-04-03T15:22:48.198362Z",
     "iopub.status.busy": "2021-04-03T15:22:48.197592Z",
     "iopub.status.idle": "2021-04-03T15:22:48.202168Z",
     "shell.execute_reply": "2021-04-03T15:22:48.202590Z"
    },
    "papermill": {
     "duration": 0.050269,
     "end_time": "2021-04-03T15:22:48.202694",
     "exception": false,
     "start_time": "2021-04-03T15:22:48.152425",
     "status": "completed"
    },
    "tags": []
   },
   "outputs": [
    {
     "data": {
      "text/html": [
       "<div>\n",
       "<style scoped>\n",
       "    .dataframe tbody tr th:only-of-type {\n",
       "        vertical-align: middle;\n",
       "    }\n",
       "\n",
       "    .dataframe tbody tr th {\n",
       "        vertical-align: top;\n",
       "    }\n",
       "\n",
       "    .dataframe thead th {\n",
       "        text-align: right;\n",
       "    }\n",
       "</style>\n",
       "<table border=\"1\" class=\"dataframe\">\n",
       "  <thead>\n",
       "    <tr style=\"text-align: right;\">\n",
       "      <th></th>\n",
       "      <th>pixel0</th>\n",
       "      <th>pixel1</th>\n",
       "      <th>pixel2</th>\n",
       "      <th>pixel3</th>\n",
       "      <th>pixel4</th>\n",
       "      <th>pixel5</th>\n",
       "      <th>pixel6</th>\n",
       "      <th>pixel7</th>\n",
       "      <th>pixel8</th>\n",
       "      <th>pixel9</th>\n",
       "      <th>...</th>\n",
       "      <th>pixel774</th>\n",
       "      <th>pixel775</th>\n",
       "      <th>pixel776</th>\n",
       "      <th>pixel777</th>\n",
       "      <th>pixel778</th>\n",
       "      <th>pixel779</th>\n",
       "      <th>pixel780</th>\n",
       "      <th>pixel781</th>\n",
       "      <th>pixel782</th>\n",
       "      <th>pixel783</th>\n",
       "    </tr>\n",
       "  </thead>\n",
       "  <tbody>\n",
       "    <tr>\n",
       "      <th>0</th>\n",
       "      <td>0</td>\n",
       "      <td>0</td>\n",
       "      <td>0</td>\n",
       "      <td>0</td>\n",
       "      <td>0</td>\n",
       "      <td>0</td>\n",
       "      <td>0</td>\n",
       "      <td>0</td>\n",
       "      <td>0</td>\n",
       "      <td>0</td>\n",
       "      <td>...</td>\n",
       "      <td>0</td>\n",
       "      <td>0</td>\n",
       "      <td>0</td>\n",
       "      <td>0</td>\n",
       "      <td>0</td>\n",
       "      <td>0</td>\n",
       "      <td>0</td>\n",
       "      <td>0</td>\n",
       "      <td>0</td>\n",
       "      <td>0</td>\n",
       "    </tr>\n",
       "    <tr>\n",
       "      <th>1</th>\n",
       "      <td>0</td>\n",
       "      <td>0</td>\n",
       "      <td>0</td>\n",
       "      <td>0</td>\n",
       "      <td>0</td>\n",
       "      <td>0</td>\n",
       "      <td>0</td>\n",
       "      <td>0</td>\n",
       "      <td>0</td>\n",
       "      <td>0</td>\n",
       "      <td>...</td>\n",
       "      <td>0</td>\n",
       "      <td>0</td>\n",
       "      <td>0</td>\n",
       "      <td>0</td>\n",
       "      <td>0</td>\n",
       "      <td>0</td>\n",
       "      <td>0</td>\n",
       "      <td>0</td>\n",
       "      <td>0</td>\n",
       "      <td>0</td>\n",
       "    </tr>\n",
       "    <tr>\n",
       "      <th>2</th>\n",
       "      <td>0</td>\n",
       "      <td>0</td>\n",
       "      <td>0</td>\n",
       "      <td>0</td>\n",
       "      <td>0</td>\n",
       "      <td>0</td>\n",
       "      <td>0</td>\n",
       "      <td>0</td>\n",
       "      <td>0</td>\n",
       "      <td>0</td>\n",
       "      <td>...</td>\n",
       "      <td>0</td>\n",
       "      <td>0</td>\n",
       "      <td>0</td>\n",
       "      <td>0</td>\n",
       "      <td>0</td>\n",
       "      <td>0</td>\n",
       "      <td>0</td>\n",
       "      <td>0</td>\n",
       "      <td>0</td>\n",
       "      <td>0</td>\n",
       "    </tr>\n",
       "    <tr>\n",
       "      <th>3</th>\n",
       "      <td>0</td>\n",
       "      <td>0</td>\n",
       "      <td>0</td>\n",
       "      <td>0</td>\n",
       "      <td>0</td>\n",
       "      <td>0</td>\n",
       "      <td>0</td>\n",
       "      <td>0</td>\n",
       "      <td>0</td>\n",
       "      <td>0</td>\n",
       "      <td>...</td>\n",
       "      <td>0</td>\n",
       "      <td>0</td>\n",
       "      <td>0</td>\n",
       "      <td>0</td>\n",
       "      <td>0</td>\n",
       "      <td>0</td>\n",
       "      <td>0</td>\n",
       "      <td>0</td>\n",
       "      <td>0</td>\n",
       "      <td>0</td>\n",
       "    </tr>\n",
       "    <tr>\n",
       "      <th>4</th>\n",
       "      <td>0</td>\n",
       "      <td>0</td>\n",
       "      <td>0</td>\n",
       "      <td>0</td>\n",
       "      <td>0</td>\n",
       "      <td>0</td>\n",
       "      <td>0</td>\n",
       "      <td>0</td>\n",
       "      <td>0</td>\n",
       "      <td>0</td>\n",
       "      <td>...</td>\n",
       "      <td>0</td>\n",
       "      <td>0</td>\n",
       "      <td>0</td>\n",
       "      <td>0</td>\n",
       "      <td>0</td>\n",
       "      <td>0</td>\n",
       "      <td>0</td>\n",
       "      <td>0</td>\n",
       "      <td>0</td>\n",
       "      <td>0</td>\n",
       "    </tr>\n",
       "  </tbody>\n",
       "</table>\n",
       "<p>5 rows × 784 columns</p>\n",
       "</div>"
      ],
      "text/plain": [
       "   pixel0  pixel1  pixel2  pixel3  pixel4  pixel5  pixel6  pixel7  pixel8  \\\n",
       "0       0       0       0       0       0       0       0       0       0   \n",
       "1       0       0       0       0       0       0       0       0       0   \n",
       "2       0       0       0       0       0       0       0       0       0   \n",
       "3       0       0       0       0       0       0       0       0       0   \n",
       "4       0       0       0       0       0       0       0       0       0   \n",
       "\n",
       "   pixel9  ...  pixel774  pixel775  pixel776  pixel777  pixel778  pixel779  \\\n",
       "0       0  ...         0         0         0         0         0         0   \n",
       "1       0  ...         0         0         0         0         0         0   \n",
       "2       0  ...         0         0         0         0         0         0   \n",
       "3       0  ...         0         0         0         0         0         0   \n",
       "4       0  ...         0         0         0         0         0         0   \n",
       "\n",
       "   pixel780  pixel781  pixel782  pixel783  \n",
       "0         0         0         0         0  \n",
       "1         0         0         0         0  \n",
       "2         0         0         0         0  \n",
       "3         0         0         0         0  \n",
       "4         0         0         0         0  \n",
       "\n",
       "[5 rows x 784 columns]"
      ]
     },
     "execution_count": 4,
     "metadata": {},
     "output_type": "execute_result"
    }
   ],
   "source": [
    "test_df.head()"
   ]
  },
  {
   "cell_type": "markdown",
   "metadata": {
    "papermill": {
     "duration": 0.03054,
     "end_time": "2021-04-03T15:22:48.264020",
     "exception": false,
     "start_time": "2021-04-03T15:22:48.233480",
     "status": "completed"
    },
    "tags": []
   },
   "source": [
    "![](https://media.giphy.com/media/3o7TKUM3IgJBX2as9O/giphy.gif)"
   ]
  },
  {
   "cell_type": "markdown",
   "metadata": {
    "papermill": {
     "duration": 0.0307,
     "end_time": "2021-04-03T15:22:48.325690",
     "exception": false,
     "start_time": "2021-04-03T15:22:48.294990",
     "status": "completed"
    },
    "tags": []
   },
   "source": [
    "## 🏋️‍♀️ Data preprocessing"
   ]
  },
  {
   "cell_type": "markdown",
   "metadata": {
    "papermill": {
     "duration": 0.030476,
     "end_time": "2021-04-03T15:22:48.386895",
     "exception": false,
     "start_time": "2021-04-03T15:22:48.356419",
     "status": "completed"
    },
    "tags": []
   },
   "source": [
    "Looking at `labels` count"
   ]
  },
  {
   "cell_type": "code",
   "execution_count": 5,
   "metadata": {
    "execution": {
     "iopub.execute_input": "2021-04-03T15:22:48.454062Z",
     "iopub.status.busy": "2021-04-03T15:22:48.453431Z",
     "iopub.status.idle": "2021-04-03T15:22:48.656652Z",
     "shell.execute_reply": "2021-04-03T15:22:48.656207Z"
    },
    "papermill": {
     "duration": 0.239092,
     "end_time": "2021-04-03T15:22:48.656767",
     "exception": false,
     "start_time": "2021-04-03T15:22:48.417675",
     "status": "completed"
    },
    "tags": []
   },
   "outputs": [
    {
     "data": {
      "image/png": "[encoded data removed]",
      "text/plain": [
       "<Figure size 1080x504 with 1 Axes>"
      ]
     },
     "metadata": {
      "needs_background": "light"
     },
     "output_type": "display_data"
    }
   ],
   "source": [
    "plt.figure(figsize=(15,7))\n",
    "plt.title('Number of digit classes')\n",
    "g = sns.countplot(train_df.label,palette='icefire')\n",
    "g.set(xlabel='Numbers', ylabel='Count')\n",
    "plt.show()"
   ]
  },
  {
   "cell_type": "code",
   "execution_count": 6,
   "metadata": {
    "execution": {
     "iopub.execute_input": "2021-04-03T15:22:48.726923Z",
     "iopub.status.busy": "2021-04-03T15:22:48.726372Z",
     "iopub.status.idle": "2021-04-03T15:22:48.988994Z",
     "shell.execute_reply": "2021-04-03T15:22:48.988504Z"
    },
    "papermill": {
     "duration": 0.3003,
     "end_time": "2021-04-03T15:22:48.989105",
     "exception": false,
     "start_time": "2021-04-03T15:22:48.688805",
     "status": "completed"
    },
    "tags": []
   },
   "outputs": [],
   "source": [
    "# Shuffling the training dataframe\n",
    "train_df = train_df.sample(frac=1).reset_index(drop=True)"
   ]
  },
  {
   "cell_type": "code",
   "execution_count": 7,
   "metadata": {
    "execution": {
     "iopub.execute_input": "2021-04-03T15:22:49.139543Z",
     "iopub.status.busy": "2021-04-03T15:22:49.060105Z",
     "iopub.status.idle": "2021-04-03T15:22:49.333230Z",
     "shell.execute_reply": "2021-04-03T15:22:49.332707Z"
    },
    "papermill": {
     "duration": 0.311763,
     "end_time": "2021-04-03T15:22:49.333328",
     "exception": false,
     "start_time": "2021-04-03T15:22:49.021565",
     "status": "completed"
    },
    "tags": []
   },
   "outputs": [],
   "source": [
    "cols = list(train_df.columns)\n",
    "cols.remove('label')\n",
    "\n",
    "x = train_df[cols]\n",
    "y = train_df['label']\n",
    "\n",
    "# Splitting the dataset into training and validation(dev) sets\n",
    "x_train, x_dev, y_train, y_dev = train_test_split(x, y, test_size=0.1, random_state=0)"
   ]
  },
  {
   "cell_type": "code",
   "execution_count": 8,
   "metadata": {
    "execution": {
     "iopub.execute_input": "2021-04-03T15:22:49.403120Z",
     "iopub.status.busy": "2021-04-03T15:22:49.401961Z",
     "iopub.status.idle": "2021-04-03T15:22:49.456861Z",
     "shell.execute_reply": "2021-04-03T15:22:49.456382Z"
    },
    "papermill": {
     "duration": 0.091561,
     "end_time": "2021-04-03T15:22:49.456970",
     "exception": false,
     "start_time": "2021-04-03T15:22:49.365409",
     "status": "completed"
    },
    "tags": []
   },
   "outputs": [],
   "source": [
    "# Testing dataset (this is the set on which we'll do predictions and then submit it)\n",
    "x_test = test_df[cols]"
   ]
  },
  {
   "cell_type": "code",
   "execution_count": 9,
   "metadata": {
    "execution": {
     "iopub.execute_input": "2021-04-03T15:22:49.535594Z",
     "iopub.status.busy": "2021-04-03T15:22:49.534933Z",
     "iopub.status.idle": "2021-04-03T15:22:49.540117Z",
     "shell.execute_reply": "2021-04-03T15:22:49.540731Z"
    },
    "papermill": {
     "duration": 0.051671,
     "end_time": "2021-04-03T15:22:49.540879",
     "exception": false,
     "start_time": "2021-04-03T15:22:49.489208",
     "status": "completed"
    },
    "tags": []
   },
   "outputs": [
    {
     "name": "stdout",
     "output_type": "stream",
     "text": [
      "Training set size: 37800\n",
      "Validation set size: 4200\n"
     ]
    }
   ],
   "source": [
    "print(f'Training set size: {len(x_train)}')\n",
    "print(f'Validation set size: {len(x_dev)}')"
   ]
  },
  {
   "cell_type": "code",
   "execution_count": 10,
   "metadata": {
    "execution": {
     "iopub.execute_input": "2021-04-03T15:22:49.610552Z",
     "iopub.status.busy": "2021-04-03T15:22:49.609972Z",
     "iopub.status.idle": "2021-04-03T15:22:49.614914Z",
     "shell.execute_reply": "2021-04-03T15:22:49.614288Z"
    },
    "papermill": {
     "duration": 0.041299,
     "end_time": "2021-04-03T15:22:49.615031",
     "exception": false,
     "start_time": "2021-04-03T15:22:49.573732",
     "status": "completed"
    },
    "tags": []
   },
   "outputs": [
    {
     "name": "stdout",
     "output_type": "stream",
     "text": [
      "(37800, 784)\n",
      "(37800, 28, 28)\n"
     ]
    }
   ],
   "source": [
    "print(x_train.shape)\n",
    "print(x_train.values.reshape(-1, 28, 28).shape)"
   ]
  },
  {
   "cell_type": "code",
   "execution_count": 11,
   "metadata": {
    "execution": {
     "iopub.execute_input": "2021-04-03T15:22:49.686660Z",
     "iopub.status.busy": "2021-04-03T15:22:49.685720Z",
     "iopub.status.idle": "2021-04-03T15:22:49.851083Z",
     "shell.execute_reply": "2021-04-03T15:22:49.850586Z"
    },
    "papermill": {
     "duration": 0.202718,
     "end_time": "2021-04-03T15:22:49.851193",
     "exception": false,
     "start_time": "2021-04-03T15:22:49.648475",
     "status": "completed"
    },
    "tags": []
   },
   "outputs": [],
   "source": [
    "# Reshaping the datasets to feed images of 28X28 pixels to our neural network\n",
    "# And also scaling the images\n",
    "x_train = x_train.values.reshape(-1, 28, 28) / 255\n",
    "x_dev   = x_dev.values.reshape(-1, 28, 28) / 255\n",
    "x_test  = x_test.values.reshape(-1, 28, 28) / 255"
   ]
  },
  {
   "cell_type": "code",
   "execution_count": 12,
   "metadata": {
    "execution": {
     "iopub.execute_input": "2021-04-03T15:22:49.922647Z",
     "iopub.status.busy": "2021-04-03T15:22:49.922005Z",
     "iopub.status.idle": "2021-04-03T15:22:49.925332Z",
     "shell.execute_reply": "2021-04-03T15:22:49.925752Z"
    },
    "papermill": {
     "duration": 0.041207,
     "end_time": "2021-04-03T15:22:49.925867",
     "exception": false,
     "start_time": "2021-04-03T15:22:49.884660",
     "status": "completed"
    },
    "tags": []
   },
   "outputs": [
    {
     "name": "stdout",
     "output_type": "stream",
     "text": [
      "(37800, 28, 28)\n",
      "(37800, 28, 28, 1)\n"
     ]
    }
   ],
   "source": [
    "print(x_train.shape)\n",
    "print(np.expand_dims(x_train, axis=-1).shape)"
   ]
  },
  {
   "cell_type": "code",
   "execution_count": 13,
   "metadata": {
    "execution": {
     "iopub.execute_input": "2021-04-03T15:22:49.996969Z",
     "iopub.status.busy": "2021-04-03T15:22:49.996236Z",
     "iopub.status.idle": "2021-04-03T15:22:49.998957Z",
     "shell.execute_reply": "2021-04-03T15:22:49.998528Z"
    },
    "papermill": {
     "duration": 0.040109,
     "end_time": "2021-04-03T15:22:49.999047",
     "exception": false,
     "start_time": "2021-04-03T15:22:49.958938",
     "status": "completed"
    },
    "tags": []
   },
   "outputs": [],
   "source": [
    "# Adding an additional dimension of channel (1 as images are grayscale)\n",
    "x_train = np.expand_dims(x_train, axis=-1)\n",
    "x_dev   = np.expand_dims(x_dev, axis=-1)\n",
    "x_test  = np.expand_dims(x_test, axis=-1)"
   ]
  },
  {
   "cell_type": "code",
   "execution_count": 14,
   "metadata": {
    "execution": {
     "iopub.execute_input": "2021-04-03T15:22:50.076457Z",
     "iopub.status.busy": "2021-04-03T15:22:50.075210Z",
     "iopub.status.idle": "2021-04-03T15:22:50.188414Z",
     "shell.execute_reply": "2021-04-03T15:22:50.188004Z"
    },
    "papermill": {
     "duration": 0.155738,
     "end_time": "2021-04-03T15:22:50.188505",
     "exception": false,
     "start_time": "2021-04-03T15:22:50.032767",
     "status": "completed"
    },
    "tags": []
   },
   "outputs": [
    {
     "data": {
      "text/plain": [
       "<matplotlib.image.AxesImage at 0x7fd52d2bbfd0>"
      ]
     },
     "execution_count": 14,
     "metadata": {},
     "output_type": "execute_result"
    },
    {
     "data": {
      "image/png": "[encoded data removed]",
      "text/plain": [
       "<Figure size 432x288 with 1 Axes>"
      ]
     },
     "metadata": {
      "needs_background": "light"
     },
     "output_type": "display_data"
    }
   ],
   "source": [
    "plt.imshow(x_train[0].reshape((28, 28)), cmap=plt.cm.binary)"
   ]
  },
  {
   "cell_type": "code",
   "execution_count": 15,
   "metadata": {
    "execution": {
     "iopub.execute_input": "2021-04-03T15:22:50.270511Z",
     "iopub.status.busy": "2021-04-03T15:22:50.269690Z",
     "iopub.status.idle": "2021-04-03T15:22:50.958452Z",
     "shell.execute_reply": "2021-04-03T15:22:50.957996Z"
    },
    "papermill": {
     "duration": 0.735606,
     "end_time": "2021-04-03T15:22:50.958545",
     "exception": false,
     "start_time": "2021-04-03T15:22:50.222939",
     "status": "completed"
    },
    "tags": []
   },
   "outputs": [
    {
     "data": {
      "image/png": "[encoded data removed]",
      "text/plain": [
       "<Figure size 720x720 with 25 Axes>"
      ]
     },
     "metadata": {},
     "output_type": "display_data"
    }
   ],
   "source": [
    "# Looking at first 25 training examples\n",
    "\n",
    "plt.figure(figsize=(10, 10))\n",
    "for i in range(25):\n",
    "    plt.subplot(5, 5, i+1)\n",
    "    plt.xticks([])\n",
    "    plt.yticks([])\n",
    "    \n",
    "    # reshaping the images as (28, 28, 1) is an invalid shape to plot imgs\n",
    "    plt.imshow(x_train[i].reshape((28, 28)), cmap=plt.cm.binary)\n",
    "    \n",
    "plt.show()"
   ]
  },
  {
   "cell_type": "markdown",
   "metadata": {
    "papermill": {
     "duration": 0.035257,
     "end_time": "2021-04-03T15:22:51.030062",
     "exception": false,
     "start_time": "2021-04-03T15:22:50.994805",
     "status": "completed"
    },
    "tags": []
   },
   "source": [
    "### 👨‍👨‍👦‍👦 Data Augmentation\n",
    "\n",
    "![](https://media.giphy.com/media/fzZzoftMBR8is/giphy.gif)"
   ]
  },
  {
   "cell_type": "code",
   "execution_count": 16,
   "metadata": {
    "execution": {
     "iopub.execute_input": "2021-04-03T15:22:51.109141Z",
     "iopub.status.busy": "2021-04-03T15:22:51.107350Z",
     "iopub.status.idle": "2021-04-03T15:22:51.109769Z",
     "shell.execute_reply": "2021-04-03T15:22:51.110177Z"
    },
    "papermill": {
     "duration": 0.044878,
     "end_time": "2021-04-03T15:22:51.110279",
     "exception": false,
     "start_time": "2021-04-03T15:22:51.065401",
     "status": "completed"
    },
    "tags": []
   },
   "outputs": [],
   "source": [
    "def data_augmentation(x_data, y_data, batch_size):\n",
    "    datagen = ImageDataGenerator(\n",
    "        featurewise_center=False,            # set input mean to 0 over the dataset\n",
    "        samplewise_center=False,             # set each sample mean to 0\n",
    "        featurewise_std_normalization=False, # divide inputs by std of the dataset\n",
    "        samplewise_std_normalization=False,  # divide each input by its std\n",
    "        zca_whitening=False,                 # apply ZCA whitening\n",
    "        rotation_range=10,                   # randomly rotate images in the range (degrees, 0 to 180)\n",
    "        zoom_range = 0.1,                    # Randomly zoom image \n",
    "        width_shift_range=0.1,               # randomly shift images horizontally (fraction of total width)\n",
    "        height_shift_range=0.1,              # randomly shift images vertically (fraction of total height)\n",
    "        horizontal_flip=False,               # randomly flip images\n",
    "        vertical_flip=False,                 # randomly flip images\n",
    "    )\n",
    "    \n",
    "    \n",
    "    datagen.fit(x_data)\n",
    "    train_data = datagen.flow(x_data, y_data, batch_size=batch_size, shuffle=True)\n",
    "    \n",
    "    return train_data"
   ]
  },
  {
   "cell_type": "code",
   "execution_count": 17,
   "metadata": {
    "execution": {
     "iopub.execute_input": "2021-04-03T15:22:51.185310Z",
     "iopub.status.busy": "2021-04-03T15:22:51.184290Z",
     "iopub.status.idle": "2021-04-03T15:22:51.326331Z",
     "shell.execute_reply": "2021-04-03T15:22:51.325857Z"
    },
    "papermill": {
     "duration": 0.181001,
     "end_time": "2021-04-03T15:22:51.326439",
     "exception": false,
     "start_time": "2021-04-03T15:22:51.145438",
     "status": "completed"
    },
    "tags": []
   },
   "outputs": [],
   "source": [
    "BATCH_SIZE = 64\n",
    "aug_train_data = data_augmentation(x_train, y_train, BATCH_SIZE)"
   ]
  },
  {
   "cell_type": "markdown",
   "metadata": {
    "papermill": {
     "duration": 0.03527,
     "end_time": "2021-04-03T15:22:51.397570",
     "exception": false,
     "start_time": "2021-04-03T15:22:51.362300",
     "status": "completed"
    },
    "tags": []
   },
   "source": [
    "## 🧠 Modelling"
   ]
  },
  {
   "cell_type": "code",
   "execution_count": 18,
   "metadata": {
    "execution": {
     "iopub.execute_input": "2021-04-03T15:22:51.478198Z",
     "iopub.status.busy": "2021-04-03T15:22:51.477666Z",
     "iopub.status.idle": "2021-04-03T15:22:54.478419Z",
     "shell.execute_reply": "2021-04-03T15:22:54.479317Z"
    },
    "papermill": {
     "duration": 3.046323,
     "end_time": "2021-04-03T15:22:54.479482",
     "exception": false,
     "start_time": "2021-04-03T15:22:51.433159",
     "status": "completed"
    },
    "tags": []
   },
   "outputs": [
    {
     "name": "stdout",
     "output_type": "stream",
     "text": [
      "Model: \"sequential\"\n",
      "_________________________________________________________________\n",
      "Layer (type)                 Output Shape              Param #   \n",
      "=================================================================\n",
      "conv2d (Conv2D)              (None, 9, 9, 96)          11712     \n",
      "_________________________________________________________________\n",
      "max_pooling2d (MaxPooling2D) (None, 4, 4, 96)          0         \n",
      "_________________________________________________________________\n",
      "conv2d_1 (Conv2D)            (None, 4, 4, 256)         614656    \n",
      "_________________________________________________________________\n",
      "flatten (Flatten)            (None, 4096)              0         \n",
      "_________________________________________________________________\n",
      "dense (Dense)                (None, 9216)              37757952  \n",
      "_________________________________________________________________\n",
      "dense_1 (Dense)              (None, 4096)              37752832  \n",
      "_________________________________________________________________\n",
      "dense_2 (Dense)              (None, 4096)              16781312  \n",
      "_________________________________________________________________\n",
      "dense_3 (Dense)              (None, 10)                40970     \n",
      "=================================================================\n",
      "Total params: 92,959,434\n",
      "Trainable params: 92,959,434\n",
      "Non-trainable params: 0\n",
      "_________________________________________________________________\n"
     ]
    }
   ],
   "source": [
    "def build_model():\n",
    "    # Neural Network Architecture\n",
    "    layers = [\n",
    "        Conv2D(filters=96, kernel_size=(11, 11), strides=2, activation='relu', input_shape=(28, 28, 1)),\n",
    "        MaxPooling2D(pool_size=(3, 3), strides=2),\n",
    "        Conv2D(filters=256, kernel_size=(5, 5), padding='same', activation='relu'),\n",
    "        Flatten(),\n",
    "        Dense(9216, activation='relu'),\n",
    "        Dense(4096, activation='relu'),\n",
    "        Dense(4096, activation='relu'),\n",
    "        Dense(10, activation='softmax')\n",
    "    ]\n",
    "\n",
    "    model = Sequential(layers)\n",
    "\n",
    "    optimizer = tf.keras.optimizers.Adam(learning_rate=0.0001)\n",
    "    model.compile(\n",
    "        optimizer=optimizer,\n",
    "        loss='sparse_categorical_crossentropy',\n",
    "        metrics=['accuracy']\n",
    "    )\n",
    "\n",
    "    return model\n",
    "\n",
    "\n",
    "model = build_model()\n",
    "model.summary()"
   ]
  },
  {
   "cell_type": "code",
   "execution_count": 19,
   "metadata": {
    "execution": {
     "iopub.execute_input": "2021-04-03T15:22:54.556454Z",
     "iopub.status.busy": "2021-04-03T15:22:54.555933Z",
     "iopub.status.idle": "2021-04-03T15:22:54.559281Z",
     "shell.execute_reply": "2021-04-03T15:22:54.560155Z"
    },
    "papermill": {
     "duration": 0.044142,
     "end_time": "2021-04-03T15:22:54.560260",
     "exception": false,
     "start_time": "2021-04-03T15:22:54.516118",
     "status": "completed"
    },
    "tags": []
   },
   "outputs": [],
   "source": [
    "callbacks = [\n",
    "    ReduceLROnPlateau(monitor=\"loss\",factor=0.1, patience=2, min_lr=0.000001, verbose=1),\n",
    "]"
   ]
  },
  {
   "cell_type": "code",
   "execution_count": 20,
   "metadata": {
    "execution": {
     "iopub.execute_input": "2021-04-03T15:22:54.637875Z",
     "iopub.status.busy": "2021-04-03T15:22:54.637094Z",
     "iopub.status.idle": "2021-04-03T15:34:56.108901Z",
     "shell.execute_reply": "2021-04-03T15:34:56.109365Z"
    },
    "papermill": {
     "duration": 721.513272,
     "end_time": "2021-04-03T15:34:56.109490",
     "exception": false,
     "start_time": "2021-04-03T15:22:54.596218",
     "status": "completed"
    },
    "tags": []
   },
   "outputs": [
    {
     "name": "stdout",
     "output_type": "stream",
     "text": [
      "Epoch 1/50\n",
      "590/590 [==============================] - 14s 23ms/step - loss: 0.4049 - accuracy: 0.8682 - val_loss: 0.1130 - val_accuracy: 0.9645 - lr: 1.0000e-04\n",
      "Epoch 2/50\n",
      "590/590 [==============================] - 14s 24ms/step - loss: 0.1213 - accuracy: 0.9619 - val_loss: 0.0750 - val_accuracy: 0.9790 - lr: 1.0000e-04\n",
      "Epoch 3/50\n",
      "590/590 [==============================] - 13s 23ms/step - loss: 0.0922 - accuracy: 0.9714 - val_loss: 0.0584 - val_accuracy: 0.9819 - lr: 1.0000e-04\n",
      "Epoch 4/50\n",
      "590/590 [==============================] - 14s 24ms/step - loss: 0.0744 - accuracy: 0.9770 - val_loss: 0.0468 - val_accuracy: 0.9862 - lr: 1.0000e-04\n",
      "Epoch 5/50\n",
      "590/590 [==============================] - 14s 23ms/step - loss: 0.0682 - accuracy: 0.9797 - val_loss: 0.0448 - val_accuracy: 0.9886 - lr: 1.0000e-04\n",
      "Epoch 6/50\n",
      "590/590 [==============================] - 14s 24ms/step - loss: 0.0590 - accuracy: 0.9811 - val_loss: 0.0497 - val_accuracy: 0.9864 - lr: 1.0000e-04\n",
      "Epoch 7/50\n",
      "590/590 [==============================] - 14s 24ms/step - loss: 0.0542 - accuracy: 0.9835 - val_loss: 0.0389 - val_accuracy: 0.9890 - lr: 1.0000e-04\n",
      "Epoch 8/50\n",
      "590/590 [==============================] - 13s 23ms/step - loss: 0.0486 - accuracy: 0.9848 - val_loss: 0.0424 - val_accuracy: 0.9890 - lr: 1.0000e-04\n",
      "Epoch 9/50\n",
      "590/590 [==============================] - 14s 24ms/step - loss: 0.0454 - accuracy: 0.9860 - val_loss: 0.0412 - val_accuracy: 0.9898 - lr: 1.0000e-04\n",
      "Epoch 10/50\n",
      "590/590 [==============================] - 14s 23ms/step - loss: 0.0441 - accuracy: 0.9862 - val_loss: 0.0495 - val_accuracy: 0.9867 - lr: 1.0000e-04\n",
      "Epoch 11/50\n",
      "590/590 [==============================] - 14s 25ms/step - loss: 0.0422 - accuracy: 0.9870 - val_loss: 0.0360 - val_accuracy: 0.9919 - lr: 1.0000e-04\n",
      "Epoch 12/50\n",
      "590/590 [==============================] - 14s 23ms/step - loss: 0.0393 - accuracy: 0.9879 - val_loss: 0.0329 - val_accuracy: 0.9910 - lr: 1.0000e-04\n",
      "Epoch 13/50\n",
      "590/590 [==============================] - 14s 24ms/step - loss: 0.0357 - accuracy: 0.9886 - val_loss: 0.0393 - val_accuracy: 0.9898 - lr: 1.0000e-04\n",
      "Epoch 14/50\n",
      "590/590 [==============================] - 14s 24ms/step - loss: 0.0340 - accuracy: 0.9897 - val_loss: 0.0520 - val_accuracy: 0.9883 - lr: 1.0000e-04\n",
      "Epoch 15/50\n",
      "590/590 [==============================] - 14s 23ms/step - loss: 0.0330 - accuracy: 0.9899 - val_loss: 0.0351 - val_accuracy: 0.9924 - lr: 1.0000e-04\n",
      "Epoch 16/50\n",
      "590/590 [==============================] - 15s 26ms/step - loss: 0.0322 - accuracy: 0.9902 - val_loss: 0.0336 - val_accuracy: 0.9905 - lr: 1.0000e-04\n",
      "Epoch 17/50\n",
      "590/590 [==============================] - 14s 23ms/step - loss: 0.0291 - accuracy: 0.9906 - val_loss: 0.0359 - val_accuracy: 0.9907 - lr: 1.0000e-04\n",
      "Epoch 18/50\n",
      "590/590 [==============================] - 15s 25ms/step - loss: 0.0294 - accuracy: 0.9912 - val_loss: 0.0394 - val_accuracy: 0.9902 - lr: 1.0000e-04\n",
      "Epoch 19/50\n",
      "590/590 [==============================] - 14s 23ms/step - loss: 0.0279 - accuracy: 0.9911 - val_loss: 0.0357 - val_accuracy: 0.9914 - lr: 1.0000e-04\n",
      "Epoch 20/50\n",
      "590/590 [==============================] - 15s 26ms/step - loss: 0.0257 - accuracy: 0.9920 - val_loss: 0.0444 - val_accuracy: 0.9869 - lr: 1.0000e-04\n",
      "Epoch 21/50\n",
      "590/590 [==============================] - 14s 23ms/step - loss: 0.0265 - accuracy: 0.9919 - val_loss: 0.0321 - val_accuracy: 0.9931 - lr: 1.0000e-04\n",
      "Epoch 22/50\n",
      "590/590 [==============================] - 14s 23ms/step - loss: 0.0237 - accuracy: 0.9919 - val_loss: 0.0319 - val_accuracy: 0.9929 - lr: 1.0000e-04\n",
      "Epoch 23/50\n",
      "590/590 [==============================] - 15s 25ms/step - loss: 0.0244 - accuracy: 0.9926 - val_loss: 0.0355 - val_accuracy: 0.9924 - lr: 1.0000e-04\n",
      "Epoch 24/50\n",
      "590/590 [==============================] - ETA: 0s - loss: 0.0246 - accuracy: 0.9930\n",
      "Epoch 00024: ReduceLROnPlateau reducing learning rate to 9.999999747378752e-06.\n",
      "590/590 [==============================] - 14s 24ms/step - loss: 0.0246 - accuracy: 0.9930 - val_loss: 0.0397 - val_accuracy: 0.9910 - lr: 1.0000e-04\n",
      "Epoch 25/50\n",
      "590/590 [==============================] - 15s 26ms/step - loss: 0.0146 - accuracy: 0.9952 - val_loss: 0.0313 - val_accuracy: 0.9940 - lr: 1.0000e-05\n",
      "Epoch 26/50\n",
      "590/590 [==============================] - 13s 23ms/step - loss: 0.0104 - accuracy: 0.9967 - val_loss: 0.0310 - val_accuracy: 0.9938 - lr: 1.0000e-05\n",
      "Epoch 27/50\n",
      "590/590 [==============================] - 16s 26ms/step - loss: 0.0085 - accuracy: 0.9970 - val_loss: 0.0301 - val_accuracy: 0.9936 - lr: 1.0000e-05\n",
      "Epoch 28/50\n",
      "590/590 [==============================] - 13s 23ms/step - loss: 0.0097 - accuracy: 0.9970 - val_loss: 0.0319 - val_accuracy: 0.9936 - lr: 1.0000e-05\n",
      "Epoch 29/50\n",
      "590/590 [==============================] - 15s 25ms/step - loss: 0.0078 - accuracy: 0.9972 - val_loss: 0.0331 - val_accuracy: 0.9936 - lr: 1.0000e-05\n",
      "Epoch 30/50\n",
      "590/590 [==============================] - 15s 25ms/step - loss: 0.0074 - accuracy: 0.9976 - val_loss: 0.0309 - val_accuracy: 0.9938 - lr: 1.0000e-05\n",
      "Epoch 31/50\n",
      "590/590 [==============================] - 14s 24ms/step - loss: 0.0076 - accuracy: 0.9975 - val_loss: 0.0294 - val_accuracy: 0.9933 - lr: 1.0000e-05\n",
      "Epoch 32/50\n",
      "590/590 [==============================] - 15s 25ms/step - loss: 0.0071 - accuracy: 0.9977 - val_loss: 0.0296 - val_accuracy: 0.9933 - lr: 1.0000e-05\n",
      "Epoch 33/50\n",
      "590/590 [==============================] - 14s 24ms/step - loss: 0.0074 - accuracy: 0.9975 - val_loss: 0.0327 - val_accuracy: 0.9931 - lr: 1.0000e-05\n",
      "Epoch 34/50\n",
      "590/590 [==============================] - 15s 26ms/step - loss: 0.0064 - accuracy: 0.9977 - val_loss: 0.0324 - val_accuracy: 0.9933 - lr: 1.0000e-05\n",
      "Epoch 35/50\n",
      "590/590 [==============================] - 13s 23ms/step - loss: 0.0063 - accuracy: 0.9980 - val_loss: 0.0323 - val_accuracy: 0.9936 - lr: 1.0000e-05\n",
      "Epoch 36/50\n",
      "590/590 [==============================] - 15s 25ms/step - loss: 0.0057 - accuracy: 0.9981 - val_loss: 0.0311 - val_accuracy: 0.9940 - lr: 1.0000e-05\n",
      "Epoch 37/50\n",
      "590/590 [==============================] - 15s 25ms/step - loss: 0.0063 - accuracy: 0.9981 - val_loss: 0.0318 - val_accuracy: 0.9938 - lr: 1.0000e-05\n",
      "Epoch 38/50\n",
      "590/590 [==============================] - 14s 24ms/step - loss: 0.0050 - accuracy: 0.9984 - val_loss: 0.0314 - val_accuracy: 0.9943 - lr: 1.0000e-05\n",
      "Epoch 39/50\n",
      "590/590 [==============================] - 16s 26ms/step - loss: 0.0060 - accuracy: 0.9981 - val_loss: 0.0338 - val_accuracy: 0.9938 - lr: 1.0000e-05\n",
      "Epoch 40/50\n",
      "590/590 [==============================] - ETA: 0s - loss: 0.0058 - accuracy: 0.9982\n",
      "Epoch 00040: ReduceLROnPlateau reducing learning rate to 1e-06.\n",
      "590/590 [==============================] - 14s 24ms/step - loss: 0.0058 - accuracy: 0.9982 - val_loss: 0.0325 - val_accuracy: 0.9948 - lr: 1.0000e-05\n",
      "Epoch 41/50\n",
      "590/590 [==============================] - 16s 27ms/step - loss: 0.0060 - accuracy: 0.9981 - val_loss: 0.0318 - val_accuracy: 0.9940 - lr: 1.0000e-06\n",
      "Epoch 42/50\n",
      "590/590 [==============================] - 14s 24ms/step - loss: 0.0049 - accuracy: 0.9981 - val_loss: 0.0321 - val_accuracy: 0.9938 - lr: 1.0000e-06\n",
      "Epoch 43/50\n",
      "590/590 [==============================] - 13s 23ms/step - loss: 0.0045 - accuracy: 0.9985 - val_loss: 0.0322 - val_accuracy: 0.9940 - lr: 1.0000e-06\n",
      "Epoch 44/50\n",
      "590/590 [==============================] - 16s 26ms/step - loss: 0.0047 - accuracy: 0.9985 - val_loss: 0.0322 - val_accuracy: 0.9938 - lr: 1.0000e-06\n",
      "Epoch 45/50\n",
      "590/590 [==============================] - 14s 24ms/step - loss: 0.0048 - accuracy: 0.9985 - val_loss: 0.0322 - val_accuracy: 0.9933 - lr: 1.0000e-06\n",
      "Epoch 46/50\n",
      "590/590 [==============================] - 15s 26ms/step - loss: 0.0052 - accuracy: 0.9981 - val_loss: 0.0320 - val_accuracy: 0.9938 - lr: 1.0000e-06\n",
      "Epoch 47/50\n",
      "590/590 [==============================] - 14s 24ms/step - loss: 0.0048 - accuracy: 0.9983 - val_loss: 0.0323 - val_accuracy: 0.9938 - lr: 1.0000e-06\n",
      "Epoch 48/50\n",
      "590/590 [==============================] - 14s 23ms/step - loss: 0.0048 - accuracy: 0.9984 - val_loss: 0.0324 - val_accuracy: 0.9938 - lr: 1.0000e-06\n",
      "Epoch 49/50\n",
      "590/590 [==============================] - 16s 27ms/step - loss: 0.0038 - accuracy: 0.9987 - val_loss: 0.0328 - val_accuracy: 0.9938 - lr: 1.0000e-06\n",
      "Epoch 50/50\n",
      "590/590 [==============================] - 13s 22ms/step - loss: 0.0050 - accuracy: 0.9982 - val_loss: 0.0326 - val_accuracy: 0.9938 - lr: 1.0000e-06\n"
     ]
    }
   ],
   "source": [
    "history = model.fit(\n",
    "    aug_train_data, \n",
    "    steps_per_epoch=x_train.shape[0] // BATCH_SIZE,\n",
    "    batch_size=BATCH_SIZE,\n",
    "    validation_data=(x_dev, y_dev), \n",
    "    epochs=50,\n",
    "    callbacks=callbacks\n",
    ")"
   ]
  },
  {
   "cell_type": "markdown",
   "metadata": {
    "papermill": {
     "duration": 3.15351,
     "end_time": "2021-04-03T15:35:02.609103",
     "exception": false,
     "start_time": "2021-04-03T15:34:59.455593",
     "status": "completed"
    },
    "tags": []
   },
   "source": [
    "### 🪂 Plotting model's performance"
   ]
  },
  {
   "cell_type": "code",
   "execution_count": 21,
   "metadata": {
    "execution": {
     "iopub.execute_input": "2021-04-03T15:35:09.471775Z",
     "iopub.status.busy": "2021-04-03T15:35:09.464854Z",
     "iopub.status.idle": "2021-04-03T15:35:09.698523Z",
     "shell.execute_reply": "2021-04-03T15:35:09.697154Z"
    },
    "papermill": {
     "duration": 3.883145,
     "end_time": "2021-04-03T15:35:09.698639",
     "exception": false,
     "start_time": "2021-04-03T15:35:05.815494",
     "status": "completed"
    },
    "tags": []
   },
   "outputs": [
    {
     "data": {
      "text/plain": [
       "<matplotlib.legend.Legend at 0x7fd52d853950>"
      ]
     },
     "execution_count": 21,
     "metadata": {},
     "output_type": "execute_result"
    },
    {
     "data": {
      "image/png": "[encoded data removed]",
      "text/plain": [
       "<Figure size 432x288 with 1 Axes>"
      ]
     },
     "metadata": {
      "needs_background": "light"
     },
     "output_type": "display_data"
    }
   ],
   "source": [
    "plt.plot(history.history['accuracy'][1:], label='train acc')\n",
    "plt.plot(history.history['val_accuracy'][1:], label='validation acc')\n",
    "plt.xlabel('Epoch')\n",
    "plt.ylabel('Accuracy')\n",
    "plt.legend(loc='lower right')"
   ]
  },
  {
   "cell_type": "code",
   "execution_count": 22,
   "metadata": {
    "execution": {
     "iopub.execute_input": "2021-04-03T15:35:16.259842Z",
     "iopub.status.busy": "2021-04-03T15:35:16.257920Z",
     "iopub.status.idle": "2021-04-03T15:35:16.386625Z",
     "shell.execute_reply": "2021-04-03T15:35:16.387067Z"
    },
    "papermill": {
     "duration": 3.321133,
     "end_time": "2021-04-03T15:35:16.387186",
     "exception": false,
     "start_time": "2021-04-03T15:35:13.066053",
     "status": "completed"
    },
    "tags": []
   },
   "outputs": [
    {
     "data": {
      "text/plain": [
       "<matplotlib.legend.Legend at 0x7fd52de3be90>"
      ]
     },
     "execution_count": 22,
     "metadata": {},
     "output_type": "execute_result"
    },
    {
     "data": {
      "image/png": "[encoded data removed]",
      "text/plain": [
       "<Figure size 432x288 with 1 Axes>"
      ]
     },
     "metadata": {
      "needs_background": "light"
     },
     "output_type": "display_data"
    }
   ],
   "source": [
    "plt.plot(history.history['loss'][1:], label='train loss')\n",
    "plt.plot(history.history['val_loss'][1:], label='validation loss')\n",
    "plt.xlabel('Epoch')\n",
    "plt.ylabel('Loss')\n",
    "plt.legend(loc='lower right')"
   ]
  },
  {
   "cell_type": "markdown",
   "metadata": {
    "papermill": {
     "duration": 3.423429,
     "end_time": "2021-04-03T15:35:22.930677",
     "exception": false,
     "start_time": "2021-04-03T15:35:19.507248",
     "status": "completed"
    },
    "tags": []
   },
   "source": [
    "### Visualizing CNN\n",
    "\n",
    "To know more read the following posts: [post_1](https://www.analyticsvidhya.com/blog/2018/03/essentials-of-deep-learning-visualizing-convolutional-neural-networks/), [post_2](https://machinelearningmastery.com/how-to-visualize-filters-and-feature-maps-in-convolutional-neural-networks/) and [post_3](https://www.kaggle.com/arpitjain007/guide-to-visualize-filters-and-feature-maps-in-cnn).\n",
    "\n",
    "To `visualize how CNN and Max pooling works` go through the following [kernel](https://www.kaggle.com/akashsdas/how-does-convolutions-work).\n",
    "\n"
   ]
  },
  {
   "cell_type": "markdown",
   "metadata": {
    "papermill": {
     "duration": 3.18141,
     "end_time": "2021-04-03T15:35:29.236244",
     "exception": false,
     "start_time": "2021-04-03T15:35:26.054834",
     "status": "completed"
    },
    "tags": []
   },
   "source": [
    "**Visualize filters**"
   ]
  },
  {
   "cell_type": "markdown",
   "metadata": {
    "papermill": {
     "duration": 3.189116,
     "end_time": "2021-04-03T15:35:35.844624",
     "exception": false,
     "start_time": "2021-04-03T15:35:32.655508",
     "status": "completed"
    },
    "tags": []
   },
   "source": [
    "Plotting the `96th` filter of the `1st conv layer`."
   ]
  },
  {
   "cell_type": "code",
   "execution_count": 23,
   "metadata": {
    "execution": {
     "iopub.execute_input": "2021-04-03T15:35:42.593650Z",
     "iopub.status.busy": "2021-04-03T15:35:42.592778Z",
     "iopub.status.idle": "2021-04-03T15:35:42.799674Z",
     "shell.execute_reply": "2021-04-03T15:35:42.800811Z"
    },
    "papermill": {
     "duration": 3.385712,
     "end_time": "2021-04-03T15:35:42.800985",
     "exception": false,
     "start_time": "2021-04-03T15:35:39.415273",
     "status": "completed"
    },
    "tags": []
   },
   "outputs": [
    {
     "data": {
      "text/plain": [
       "<matplotlib.image.AxesImage at 0x7fd52dc85d90>"
      ]
     },
     "execution_count": 23,
     "metadata": {},
     "output_type": "execute_result"
    },
    {
     "data": {
      "image/png": "[encoded data removed]",
      "text/plain": [
       "<Figure size 432x288 with 1 Axes>"
      ]
     },
     "metadata": {
      "needs_background": "light"
     },
     "output_type": "display_data"
    }
   ],
   "source": [
    "top_layer = model.layers[0]\n",
    "plt.imshow(top_layer.get_weights()[0][:, :, :, 95].squeeze(), cmap='gray')"
   ]
  },
  {
   "cell_type": "code",
   "execution_count": 24,
   "metadata": {
    "execution": {
     "iopub.execute_input": "2021-04-03T15:35:49.206733Z",
     "iopub.status.busy": "2021-04-03T15:35:49.205486Z",
     "iopub.status.idle": "2021-04-03T15:35:49.212730Z",
     "shell.execute_reply": "2021-04-03T15:35:49.212096Z"
    },
    "papermill": {
     "duration": 3.15576,
     "end_time": "2021-04-03T15:35:49.212855",
     "exception": false,
     "start_time": "2021-04-03T15:35:46.057095",
     "status": "completed"
    },
    "tags": []
   },
   "outputs": [
    {
     "name": "stdout",
     "output_type": "stream",
     "text": [
      "Shape of 1st conv layer weights: (11, 11, 1, 96)\n",
      "Shape of 2nd conv layer weights: (5, 5, 96, 256)\n"
     ]
    }
   ],
   "source": [
    "print(f'Shape of 1st conv layer weights: {model.layers[0].get_weights()[0].shape}')\n",
    "print(f'Shape of 2nd conv layer weights: {model.layers[2].get_weights()[0].shape}')"
   ]
  },
  {
   "cell_type": "code",
   "execution_count": 25,
   "metadata": {
    "execution": {
     "iopub.execute_input": "2021-04-03T15:35:55.791124Z",
     "iopub.status.busy": "2021-04-03T15:35:55.790495Z",
     "iopub.status.idle": "2021-04-03T15:35:55.794751Z",
     "shell.execute_reply": "2021-04-03T15:35:55.794275Z"
    },
    "papermill": {
     "duration": 3.473096,
     "end_time": "2021-04-03T15:35:55.794851",
     "exception": false,
     "start_time": "2021-04-03T15:35:52.321755",
     "status": "completed"
    },
    "tags": []
   },
   "outputs": [],
   "source": [
    "def plot_filters_for_conv_layer(model, layer_index, num_columns=5, cmap='binary', how_many='all'):\n",
    "    layer = model.layers[layer_index]\n",
    "    filter_weights = layer.get_weights()[0]\n",
    "    \n",
    "    num_filters = layer.filters if how_many == 'all' else how_many\n",
    "    num_rows = (num_filters // num_columns) + (num_filters % num_columns)\n",
    "    # example:\n",
    "    # num_rows = (96 // 5) + (96 % 5) == 20 (to plot all the filters)\n",
    "    \n",
    "    f, axs = plt.subplots(num_rows, num_columns, figsize=(20, 5 * num_rows))\n",
    "    row_count = 0  # to plot num_columns figs in an individual row\n",
    "    \n",
    "    if not isinstance(axs, np.ndarray):\n",
    "        # When num_cloumns == how_many\n",
    "        axs = np.array(axs)  # to make axs iterable\n",
    "        # list can also be inplace np.array but since plt.subplots axs output is of type np.ndarray I kept \n",
    "        \n",
    "    for idx, row_ax in enumerate(axs):\n",
    "        # plotting filters in a row\n",
    "        for i, ax in enumerate(row_ax):\n",
    "            if row_count + i >= num_filters:\n",
    "                break\n",
    "                \n",
    "            if len(filter_weights.shape) == 4:\n",
    "                if filter_weights.shape[2] == 1:\n",
    "                    # For plotting filters whose weight shape is == (kernel_size_x, kernel_size_y, 1, #filters)\n",
    "                    # example: (11, 11, 1, 96)\n",
    "                    ax.imshow(filter_weights[:, :, :, row_count + i].squeeze(), cmap=cmap)\n",
    "                else:\n",
    "                    # For plotting filters whose weight shape is == (kernel_size_x, kernel_size_y, num > 1, #filters)\n",
    "                    # example: (5, 5, 96, 256)\n",
    "                    # because if ax.imshow(filter_weights[:, :, :, row_count + i].squeeze(), cmap=cmap)\n",
    "                    # is used then we'll have array of (5, 5, 96) which is invalid image data for plotting 2D image\n",
    "                    # (in above case where `filter_weights.shape[2] == 1` there we'll end up with (11, 11, 1) which\n",
    "                    # after applying the `squeeze` function will be (11, 11) which is valid image data) so in \n",
    "                    # that case we'll just plot (5, 5) plot in the first 3D array i.e. (5, 5, 0, row_count + i) \n",
    "                    # => this is what we'll plot. To plot (5, 5, row_count + i, 0) just change indexing from\n",
    "                    # [:, :, 0, row_count + i] to [:, :, row_count + i, 0]\n",
    "                    ax.imshow(filter_weights[:, :, 0, row_count + i].squeeze(), cmap=cmap)\n",
    "                    \n",
    "                # For generalization this can be used, but to understand why 0 need to be used,\n",
    "                # using the above way\n",
    "                # ax.imshow(filter_weights[:, :, 0, row_count + i].squeeze(), cmap=cmap)\n",
    "            else:\n",
    "                break\n",
    "                            \n",
    "        # increasing row_count by num_columns\n",
    "        row_count += num_columns "
   ]
  },
  {
   "cell_type": "markdown",
   "metadata": {
    "papermill": {
     "duration": 3.252835,
     "end_time": "2021-04-03T15:36:02.268706",
     "exception": false,
     "start_time": "2021-04-03T15:35:59.015871",
     "status": "completed"
    },
    "tags": []
   },
   "source": [
    "Using `cmap` as `sns.cubehelix_palette(start=.5, rot=-.5, as_cmap=True)` instead of `binary`, just to make the plot look `beautiful as you`. Also there are `96` filters in the `1st conv` layer so only plotting the first `20` filters."
   ]
  },
  {
   "cell_type": "markdown",
   "metadata": {
    "papermill": {
     "duration": 3.163856,
     "end_time": "2021-04-03T15:36:08.817257",
     "exception": false,
     "start_time": "2021-04-03T15:36:05.653401",
     "status": "completed"
    },
    "tags": []
   },
   "source": [
    "Visualizing `only first 20` filters in the `1nd conv layer`. Here `sns.cubehelix_palette(start=.5, rot=-.5, as_cmap=True)` is used as `cmap`."
   ]
  },
  {
   "cell_type": "code",
   "execution_count": 26,
   "metadata": {
    "execution": {
     "iopub.execute_input": "2021-04-03T15:36:15.557348Z",
     "iopub.status.busy": "2021-04-03T15:36:15.556506Z",
     "iopub.status.idle": "2021-04-03T15:36:17.862351Z",
     "shell.execute_reply": "2021-04-03T15:36:17.861922Z"
    },
    "papermill": {
     "duration": 5.477267,
     "end_time": "2021-04-03T15:36:17.862447",
     "exception": false,
     "start_time": "2021-04-03T15:36:12.385180",
     "status": "completed"
    },
    "tags": []
   },
   "outputs": [
    {
     "data": {
      "image/png": "[encoded data removed]",
      "text/plain": [
       "<Figure size 1440x1800 with 20 Axes>"
      ]
     },
     "metadata": {
      "needs_background": "light"
     },
     "output_type": "display_data"
    }
   ],
   "source": [
    "plot_filters_for_conv_layer(\n",
    "    model, \n",
    "    0, \n",
    "    num_columns=4,\n",
    "    cmap=sns.cubehelix_palette(start=.5, rot=-.5, as_cmap=True), \n",
    "    how_many=20\n",
    ")  \n",
    "\n",
    "# 11X11 filters"
   ]
  },
  {
   "cell_type": "markdown",
   "metadata": {
    "papermill": {
     "duration": 3.155952,
     "end_time": "2021-04-03T15:36:24.137050",
     "exception": false,
     "start_time": "2021-04-03T15:36:20.981098",
     "status": "completed"
    },
    "tags": []
   },
   "source": [
    "Visualizing `only first 10` filters in the `2nd conv layer`. Here `binary` is used as `cmap`."
   ]
  },
  {
   "cell_type": "code",
   "execution_count": 27,
   "metadata": {
    "execution": {
     "iopub.execute_input": "2021-04-03T15:36:30.790917Z",
     "iopub.status.busy": "2021-04-03T15:36:30.789957Z",
     "iopub.status.idle": "2021-04-03T15:36:31.966753Z",
     "shell.execute_reply": "2021-04-03T15:36:31.965919Z"
    },
    "papermill": {
     "duration": 4.480789,
     "end_time": "2021-04-03T15:36:31.966856",
     "exception": false,
     "start_time": "2021-04-03T15:36:27.486067",
     "status": "completed"
    },
    "tags": []
   },
   "outputs": [
    {
     "data": {
      "image/png": "[encoded data removed]",
      "text/plain": [
       "<Figure size 1440x720 with 10 Axes>"
      ]
     },
     "metadata": {
      "needs_background": "light"
     },
     "output_type": "display_data"
    }
   ],
   "source": [
    "plot_filters_for_conv_layer(\n",
    "    model, \n",
    "    2, \n",
    "    num_columns=5,\n",
    "    how_many=10\n",
    ")  \n",
    "\n",
    "# 5X5 filters"
   ]
  },
  {
   "cell_type": "markdown",
   "metadata": {
    "papermill": {
     "duration": 3.446527,
     "end_time": "2021-04-03T15:36:38.652429",
     "exception": false,
     "start_time": "2021-04-03T15:36:35.205902",
     "status": "completed"
    },
    "tags": []
   },
   "source": [
    "**Visualizing feature maps**"
   ]
  },
  {
   "cell_type": "code",
   "execution_count": 28,
   "metadata": {
    "execution": {
     "iopub.execute_input": "2021-04-03T15:36:45.461635Z",
     "iopub.status.busy": "2021-04-03T15:36:45.460635Z",
     "iopub.status.idle": "2021-04-03T15:36:45.465282Z",
     "shell.execute_reply": "2021-04-03T15:36:45.464862Z"
    },
    "papermill": {
     "duration": 3.620271,
     "end_time": "2021-04-03T15:36:45.465378",
     "exception": false,
     "start_time": "2021-04-03T15:36:41.845107",
     "status": "completed"
    },
    "tags": []
   },
   "outputs": [
    {
     "data": {
      "text/plain": [
       "[0, 2]"
      ]
     },
     "execution_count": 28,
     "metadata": {},
     "output_type": "execute_result"
    }
   ],
   "source": [
    "[idx for idx in range(len(model.layers)) if 'conv' in model.layers[idx].name]"
   ]
  },
  {
   "cell_type": "markdown",
   "metadata": {
    "papermill": {
     "duration": 3.362154,
     "end_time": "2021-04-03T15:36:52.057262",
     "exception": false,
     "start_time": "2021-04-03T15:36:48.695108",
     "status": "completed"
    },
    "tags": []
   },
   "source": [
    "The `feature maps` of a `CNN` capture the result of `applying the filters` to an input image i.e at each layer, the feature map is the output of that layer. The reason for visualising a feature map for a specific input image is to try to gain some understanding of what features our CNN detects."
   ]
  },
  {
   "cell_type": "code",
   "execution_count": 29,
   "metadata": {
    "execution": {
     "iopub.execute_input": "2021-04-03T15:36:58.370382Z",
     "iopub.status.busy": "2021-04-03T15:36:58.369536Z",
     "iopub.status.idle": "2021-04-03T15:36:58.371906Z",
     "shell.execute_reply": "2021-04-03T15:36:58.372292Z"
    },
    "papermill": {
     "duration": 3.172293,
     "end_time": "2021-04-03T15:36:58.372408",
     "exception": false,
     "start_time": "2021-04-03T15:36:55.200115",
     "status": "completed"
    },
    "tags": []
   },
   "outputs": [],
   "source": [
    "def plot_feature_maps_for_single_conv_layer(model, layer_id, input_img, num_columns=10, cmap='binary'):\n",
    "    ref_model = Model(inputs=model.inputs, outputs=model.layers[layer_id].output)\n",
    "    feature_map = ref_model.predict(input_img)\n",
    "    \n",
    "    num_filters = feature_map[0].shape[2]\n",
    "    num_rows = (num_filters // num_columns) + (num_filters % num_columns)\n",
    "\n",
    "    fig = plt.figure(figsize=(16, 2 * num_rows))\n",
    "    ix = 1\n",
    "    for _ in range(num_rows):\n",
    "        for _ in range(num_columns):\n",
    "            if ix == num_filters:\n",
    "                break\n",
    "        \n",
    "            # specify subplot and turn of axis\n",
    "            ax = plt.subplot(num_rows, num_columns, ix)\n",
    "            ax.set_xticks([])\n",
    "            ax.set_yticks([])\n",
    "        \n",
    "            # plot filter channel in grayscale\n",
    "            plt.imshow(feature_map[0, :, :, ix-1], cmap=cmap)\n",
    "            ix += 1\n",
    "            \n",
    "    # show the figure\n",
    "    plt.show()"
   ]
  },
  {
   "cell_type": "markdown",
   "metadata": {
    "papermill": {
     "duration": 3.148746,
     "end_time": "2021-04-03T15:37:04.931867",
     "exception": false,
     "start_time": "2021-04-03T15:37:01.783121",
     "status": "completed"
    },
    "tags": []
   },
   "source": [
    "Let's visualize `feature maps` for `7th` image in `x_train`."
   ]
  },
  {
   "cell_type": "code",
   "execution_count": 30,
   "metadata": {
    "execution": {
     "iopub.execute_input": "2021-04-03T15:37:11.516982Z",
     "iopub.status.busy": "2021-04-03T15:37:11.516160Z",
     "iopub.status.idle": "2021-04-03T15:37:11.519022Z",
     "shell.execute_reply": "2021-04-03T15:37:11.518555Z"
    },
    "papermill": {
     "duration": 3.431765,
     "end_time": "2021-04-03T15:37:11.519122",
     "exception": false,
     "start_time": "2021-04-03T15:37:08.087357",
     "status": "completed"
    },
    "tags": []
   },
   "outputs": [],
   "source": [
    "visualize_feature_maps_for = 7"
   ]
  },
  {
   "cell_type": "code",
   "execution_count": 31,
   "metadata": {
    "execution": {
     "iopub.execute_input": "2021-04-03T15:37:18.257971Z",
     "iopub.status.busy": "2021-04-03T15:37:18.257075Z",
     "iopub.status.idle": "2021-04-03T15:37:18.373872Z",
     "shell.execute_reply": "2021-04-03T15:37:18.374294Z"
    },
    "papermill": {
     "duration": 3.734193,
     "end_time": "2021-04-03T15:37:18.374410",
     "exception": false,
     "start_time": "2021-04-03T15:37:14.640217",
     "status": "completed"
    },
    "tags": []
   },
   "outputs": [
    {
     "data": {
      "text/plain": [
       "<matplotlib.image.AxesImage at 0x7fd52dd1f310>"
      ]
     },
     "execution_count": 31,
     "metadata": {},
     "output_type": "execute_result"
    },
    {
     "data": {
      "image/png": "[encoded data removed]",
      "text/plain": [
       "<Figure size 432x288 with 1 Axes>"
      ]
     },
     "metadata": {
      "needs_background": "light"
     },
     "output_type": "display_data"
    }
   ],
   "source": [
    "plt.imshow(x_train[visualize_feature_maps_for].reshape((28, 28)), cmap=plt.cm.binary)"
   ]
  },
  {
   "cell_type": "code",
   "execution_count": 32,
   "metadata": {
    "execution": {
     "iopub.execute_input": "2021-04-03T15:37:25.060957Z",
     "iopub.status.busy": "2021-04-03T15:37:25.060109Z",
     "iopub.status.idle": "2021-04-03T15:37:28.097004Z",
     "shell.execute_reply": "2021-04-03T15:37:28.096117Z"
    },
    "papermill": {
     "duration": 6.585674,
     "end_time": "2021-04-03T15:37:28.097115",
     "exception": false,
     "start_time": "2021-04-03T15:37:21.511441",
     "status": "completed"
    },
    "tags": []
   },
   "outputs": [
    {
     "data": {
      "image/png": "[encoded data removed]",
      "text/plain": [
       "<Figure size 1152x1728 with 95 Axes>"
      ]
     },
     "metadata": {},
     "output_type": "display_data"
    }
   ],
   "source": [
    "plot_feature_maps_for_single_conv_layer(\n",
    "    model, \n",
    "    0, \n",
    "    x_train[visualize_feature_maps_for][np.newaxis, ...], \n",
    "    num_columns=8,\n",
    "    cmap=sns.cubehelix_palette(start=.5, rot=-.5, as_cmap=True)\n",
    ")"
   ]
  },
  {
   "cell_type": "code",
   "execution_count": 33,
   "metadata": {
    "execution": {
     "iopub.execute_input": "2021-04-03T15:37:34.719564Z",
     "iopub.status.busy": "2021-04-03T15:37:34.718743Z",
     "iopub.status.idle": "2021-04-03T15:37:42.810521Z",
     "shell.execute_reply": "2021-04-03T15:37:42.809781Z"
    },
    "papermill": {
     "duration": 11.562986,
     "end_time": "2021-04-03T15:37:42.810617",
     "exception": false,
     "start_time": "2021-04-03T15:37:31.247631",
     "status": "completed"
    },
    "tags": []
   },
   "outputs": [
    {
     "data": {
      "image/png": "[encoded data removed]",
      "text/plain": [
       "<Figure size 1152x4608 with 255 Axes>"
      ]
     },
     "metadata": {},
     "output_type": "display_data"
    }
   ],
   "source": [
    "plot_feature_maps_for_single_conv_layer(\n",
    "    model, \n",
    "    2, \n",
    "    x_train[visualize_feature_maps_for][np.newaxis, ...],\n",
    "    num_columns=8,\n",
    "    cmap=sns.cubehelix_palette(start=.5, rot=-.5, as_cmap=True)\n",
    ")"
   ]
  },
  {
   "cell_type": "markdown",
   "metadata": {
    "papermill": {
     "duration": 3.647341,
     "end_time": "2021-04-03T15:37:49.842321",
     "exception": false,
     "start_time": "2021-04-03T15:37:46.194980",
     "status": "completed"
    },
    "tags": []
   },
   "source": [
    "## 🔮 Evaluation"
   ]
  },
  {
   "cell_type": "markdown",
   "metadata": {
    "papermill": {
     "duration": 3.438431,
     "end_time": "2021-04-03T15:37:56.393432",
     "exception": false,
     "start_time": "2021-04-03T15:37:52.955001",
     "status": "completed"
    },
    "tags": []
   },
   "source": [
    "Here model is evaluated on the `validation` dataset."
   ]
  },
  {
   "cell_type": "markdown",
   "metadata": {
    "papermill": {
     "duration": 3.154082,
     "end_time": "2021-04-03T15:38:02.676034",
     "exception": false,
     "start_time": "2021-04-03T15:37:59.521952",
     "status": "completed"
    },
    "tags": []
   },
   "source": [
    "`plot_confusion_matrix` function prints and plots the confusion matrix. Normalization can be applied by setting `normalize=True`."
   ]
  },
  {
   "cell_type": "code",
   "execution_count": 34,
   "metadata": {
    "execution": {
     "iopub.execute_input": "2021-04-03T15:38:09.517463Z",
     "iopub.status.busy": "2021-04-03T15:38:09.510914Z",
     "iopub.status.idle": "2021-04-03T15:38:09.691181Z",
     "shell.execute_reply": "2021-04-03T15:38:09.690673Z"
    },
    "papermill": {
     "duration": 3.673264,
     "end_time": "2021-04-03T15:38:09.691285",
     "exception": false,
     "start_time": "2021-04-03T15:38:06.018021",
     "status": "completed"
    },
    "tags": []
   },
   "outputs": [],
   "source": [
    "def plot_confusion_matrix(cm, classes, normalize=False, title='Confusion matrix'):\n",
    "    plt.figure(figsize=(8, 8))\n",
    "    \n",
    "    plt.imshow(cm, interpolation='nearest', cmap=sns.cubehelix_palette(start=.5, rot=-.5, as_cmap=True))\n",
    "    plt.title(title)\n",
    "    plt.colorbar(fraction=0.046, pad=0.04)\n",
    "    tick_marks = np.arange(len(classes))\n",
    "    plt.xticks(tick_marks, classes, rotation=45)\n",
    "    plt.yticks(tick_marks, classes)\n",
    "\n",
    "    if normalize:\n",
    "        cm = cm.astype('float') / cm.sum(axis=1)[:, np.newaxis]\n",
    "\n",
    "    thresh = cm.max() / 2.\n",
    "    for i, j in itertools.product(range(cm.shape[0]), range(cm.shape[1])):\n",
    "        plt.text(j, i, cm[i, j],\n",
    "                 horizontalalignment=\"center\",\n",
    "                 color=\"white\" if cm[i, j] > thresh else \"black\")\n",
    "\n",
    "    plt.tight_layout()\n",
    "    plt.ylabel('True label')\n",
    "    plt.xlabel('Predicted label')"
   ]
  },
  {
   "cell_type": "code",
   "execution_count": 35,
   "metadata": {
    "execution": {
     "iopub.execute_input": "2021-04-03T15:38:16.055518Z",
     "iopub.status.busy": "2021-04-03T15:38:16.054520Z",
     "iopub.status.idle": "2021-04-03T15:38:17.135429Z",
     "shell.execute_reply": "2021-04-03T15:38:17.136625Z"
    },
    "papermill": {
     "duration": 4.286952,
     "end_time": "2021-04-03T15:38:17.136855",
     "exception": false,
     "start_time": "2021-04-03T15:38:12.849903",
     "status": "completed"
    },
    "tags": []
   },
   "outputs": [
    {
     "data": {
      "image/png": "[encoded data removed]",
      "text/plain": [
       "<Figure size 576x576 with 2 Axes>"
      ]
     },
     "metadata": {
      "needs_background": "light"
     },
     "output_type": "display_data"
    }
   ],
   "source": [
    "# Predict labels for validation dataset\n",
    "y_pred = model.predict(x_dev)\n",
    "\n",
    "# Convert predictions classes to one hot vectors \n",
    "y_pred_classes = np.argmax(y_pred, axis=1) \n",
    "\n",
    "# compute the confusion matrix\n",
    "confusion_mtx = confusion_matrix(y_dev, y_pred_classes) \n",
    "\n",
    "# plot the confusion matrix\n",
    "plot_confusion_matrix(confusion_mtx, classes=range(10)) "
   ]
  },
  {
   "cell_type": "code",
   "execution_count": 36,
   "metadata": {
    "execution": {
     "iopub.execute_input": "2021-04-03T15:38:24.029016Z",
     "iopub.status.busy": "2021-04-03T15:38:24.027459Z",
     "iopub.status.idle": "2021-04-03T15:38:24.149556Z",
     "shell.execute_reply": "2021-04-03T15:38:24.149123Z"
    },
    "papermill": {
     "duration": 3.374375,
     "end_time": "2021-04-03T15:38:24.149653",
     "exception": false,
     "start_time": "2021-04-03T15:38:20.775278",
     "status": "completed"
    },
    "tags": []
   },
   "outputs": [
    {
     "name": "stdout",
     "output_type": "stream",
     "text": [
      "[1.0662800e-20 8.5529293e-24 2.7979746e-16 1.0998474e-18 6.6032540e-21\n",
      " 2.1041348e-22 2.0474271e-21 1.5873636e-22 1.0000000e+00 2.3931704e-16]\n",
      "Predicted digit is: 8\n",
      "Accuracy is: 100.0%\n"
     ]
    },
    {
     "data": {
      "text/plain": [
       "<matplotlib.image.AxesImage at 0x7fd468280090>"
      ]
     },
     "execution_count": 36,
     "metadata": {},
     "output_type": "execute_result"
    },
    {
     "data": {
      "image/png": "[encoded data removed]",
      "text/plain": [
       "<Figure size 432x288 with 1 Axes>"
      ]
     },
     "metadata": {
      "needs_background": "light"
     },
     "output_type": "display_data"
    }
   ],
   "source": [
    "# Verify the results\n",
    "\n",
    "predictions = y_pred\n",
    "\n",
    "print(predictions[0]) # Confidence matrix\n",
    "\n",
    "print('Predicted digit is: ' + str(np.argmax(predictions[0])))\n",
    "print('Accuracy is: ' + str(np.max(predictions[0] * 100)) + '%')\n",
    "\n",
    "# Actual Digit\n",
    "plt.imshow(x_dev[0].reshape((28, 28)), cmap=plt.cm.binary)"
   ]
  },
  {
   "cell_type": "code",
   "execution_count": 37,
   "metadata": {
    "execution": {
     "iopub.execute_input": "2021-04-03T15:38:30.766518Z",
     "iopub.status.busy": "2021-04-03T15:38:30.764812Z",
     "iopub.status.idle": "2021-04-03T15:38:31.616156Z",
     "shell.execute_reply": "2021-04-03T15:38:31.616609Z"
    },
    "papermill": {
     "duration": 4.32343,
     "end_time": "2021-04-03T15:38:31.616756",
     "exception": false,
     "start_time": "2021-04-03T15:38:27.293326",
     "status": "completed"
    },
    "tags": []
   },
   "outputs": [
    {
     "data": {
      "image/png": "[encoded data removed]",
      "text/plain": [
       "<Figure size 864x1008 with 25 Axes>"
      ]
     },
     "metadata": {},
     "output_type": "display_data"
    }
   ],
   "source": [
    "# Seeing first 25 validation images predictions\n",
    "plt.figure(figsize=(12, 14))\n",
    "for i in range(25):\n",
    "    plt.subplot(5, 5, i+1)\n",
    "    plt.xticks([])\n",
    "    plt.yticks([])\n",
    "    plt.imshow(x_dev[i].reshape((28, 28)), cmap=plt.cm.binary)\n",
    "    \n",
    "    plt.xlabel(\n",
    "        'Predicted digit is: ' + str(np.argmax(predictions[i])) + \n",
    "        '\\n' + \n",
    "        'Accuracy is: ' + str(np.max(predictions[i] * 100)) + '%'\n",
    "    )"
   ]
  },
  {
   "cell_type": "markdown",
   "metadata": {
    "papermill": {
     "duration": 3.15948,
     "end_time": "2021-04-03T15:38:37.937449",
     "exception": false,
     "start_time": "2021-04-03T15:38:34.777969",
     "status": "completed"
    },
    "tags": []
   },
   "source": [
    "## 🔮 Predictions on test set and 📧 submitting the results"
   ]
  },
  {
   "cell_type": "code",
   "execution_count": 38,
   "metadata": {
    "execution": {
     "iopub.execute_input": "2021-04-03T15:38:44.490058Z",
     "iopub.status.busy": "2021-04-03T15:38:44.489027Z",
     "iopub.status.idle": "2021-04-03T15:38:46.237676Z",
     "shell.execute_reply": "2021-04-03T15:38:46.237106Z"
    },
    "papermill": {
     "duration": 4.908352,
     "end_time": "2021-04-03T15:38:46.237818",
     "exception": false,
     "start_time": "2021-04-03T15:38:41.329466",
     "status": "completed"
    },
    "tags": []
   },
   "outputs": [],
   "source": [
    "predictions = model.predict(x_test)"
   ]
  },
  {
   "cell_type": "code",
   "execution_count": 39,
   "metadata": {
    "execution": {
     "iopub.execute_input": "2021-04-03T15:38:53.166467Z",
     "iopub.status.busy": "2021-04-03T15:38:53.165585Z",
     "iopub.status.idle": "2021-04-03T15:38:53.188814Z",
     "shell.execute_reply": "2021-04-03T15:38:53.189813Z"
    },
    "papermill": {
     "duration": 3.819377,
     "end_time": "2021-04-03T15:38:53.189978",
     "exception": false,
     "start_time": "2021-04-03T15:38:49.370601",
     "status": "completed"
    },
    "tags": []
   },
   "outputs": [
    {
     "data": {
      "text/html": [
       "<div>\n",
       "<style scoped>\n",
       "    .dataframe tbody tr th:only-of-type {\n",
       "        vertical-align: middle;\n",
       "    }\n",
       "\n",
       "    .dataframe tbody tr th {\n",
       "        vertical-align: top;\n",
       "    }\n",
       "\n",
       "    .dataframe thead th {\n",
       "        text-align: right;\n",
       "    }\n",
       "</style>\n",
       "<table border=\"1\" class=\"dataframe\">\n",
       "  <thead>\n",
       "    <tr style=\"text-align: right;\">\n",
       "      <th></th>\n",
       "      <th>ImageId</th>\n",
       "      <th>Label</th>\n",
       "    </tr>\n",
       "  </thead>\n",
       "  <tbody>\n",
       "    <tr>\n",
       "      <th>0</th>\n",
       "      <td>1</td>\n",
       "      <td>0</td>\n",
       "    </tr>\n",
       "    <tr>\n",
       "      <th>1</th>\n",
       "      <td>2</td>\n",
       "      <td>0</td>\n",
       "    </tr>\n",
       "    <tr>\n",
       "      <th>2</th>\n",
       "      <td>3</td>\n",
       "      <td>0</td>\n",
       "    </tr>\n",
       "    <tr>\n",
       "      <th>3</th>\n",
       "      <td>4</td>\n",
       "      <td>0</td>\n",
       "    </tr>\n",
       "    <tr>\n",
       "      <th>4</th>\n",
       "      <td>5</td>\n",
       "      <td>0</td>\n",
       "    </tr>\n",
       "  </tbody>\n",
       "</table>\n",
       "</div>"
      ],
      "text/plain": [
       "   ImageId  Label\n",
       "0        1      0\n",
       "1        2      0\n",
       "2        3      0\n",
       "3        4      0\n",
       "4        5      0"
      ]
     },
     "execution_count": 39,
     "metadata": {},
     "output_type": "execute_result"
    }
   ],
   "source": [
    "submission = pd.read_csv('/kaggle/input/digit-recognizer/sample_submission.csv')\n",
    "submission.head()"
   ]
  },
  {
   "cell_type": "code",
   "execution_count": 40,
   "metadata": {
    "execution": {
     "iopub.execute_input": "2021-04-03T15:38:59.535965Z",
     "iopub.status.busy": "2021-04-03T15:38:59.535094Z",
     "iopub.status.idle": "2021-04-03T15:39:01.067440Z",
     "shell.execute_reply": "2021-04-03T15:39:01.068571Z"
    },
    "papermill": {
     "duration": 4.705669,
     "end_time": "2021-04-03T15:39:01.068780",
     "exception": false,
     "start_time": "2021-04-03T15:38:56.363111",
     "status": "completed"
    },
    "tags": []
   },
   "outputs": [],
   "source": [
    "for i in submission.index:\n",
    "    submission['Label'][i] = np.argmax(predictions[i])"
   ]
  },
  {
   "cell_type": "code",
   "execution_count": 41,
   "metadata": {
    "execution": {
     "iopub.execute_input": "2021-04-03T15:39:07.369609Z",
     "iopub.status.busy": "2021-04-03T15:39:07.368792Z",
     "iopub.status.idle": "2021-04-03T15:39:07.464792Z",
     "shell.execute_reply": "2021-04-03T15:39:07.463777Z"
    },
    "papermill": {
     "duration": 3.247787,
     "end_time": "2021-04-03T15:39:07.464905",
     "exception": false,
     "start_time": "2021-04-03T15:39:04.217118",
     "status": "completed"
    },
    "tags": []
   },
   "outputs": [],
   "source": [
    "submission.to_csv(\"sample_submission.csv\", index=False)"
   ]
  },
  {
   "cell_type": "markdown",
   "metadata": {
    "papermill": {
     "duration": 3.471142,
     "end_time": "2021-04-03T15:39:14.055616",
     "exception": false,
     "start_time": "2021-04-03T15:39:10.584474",
     "status": "completed"
    },
    "tags": []
   },
   "source": [
    "## **🎁 Saving the model**"
   ]
  },
  {
   "cell_type": "code",
   "execution_count": 42,
   "metadata": {
    "execution": {
     "iopub.execute_input": "2021-04-03T15:39:20.517768Z",
     "iopub.status.busy": "2021-04-03T15:39:20.516948Z",
     "iopub.status.idle": "2021-04-03T15:39:23.175310Z",
     "shell.execute_reply": "2021-04-03T15:39:23.177070Z"
    },
    "papermill": {
     "duration": 5.944273,
     "end_time": "2021-04-03T15:39:23.177201",
     "exception": false,
     "start_time": "2021-04-03T15:39:17.232928",
     "status": "completed"
    },
    "tags": []
   },
   "outputs": [],
   "source": [
    "model.save('model')"
   ]
  },
  {
   "cell_type": "markdown",
   "metadata": {
    "papermill": {
     "duration": 3.215584,
     "end_time": "2021-04-03T15:39:29.995687",
     "exception": false,
     "start_time": "2021-04-03T15:39:26.780103",
     "status": "completed"
    },
    "tags": []
   },
   "source": [
    "---\n",
    "\n",
    "I'll wrap things up there. If you want to find some other answers then go ahead `edit` this kernel. If you have any `questions` then do let me know.\n",
    "\n",
    "If this kernel helped you then don't forget to 🔼 `upvote` and share your 🎙 `feedback` on improvements of the kernel.\n",
    "\n",
    "![](https://media.giphy.com/media/xjZtu4qi1biIo/giphy.gif)\n",
    "\n",
    "---"
   ]
  }
 ],
 "metadata": {
  "kernelspec": {
   "display_name": "Python 3",
   "language": "python",
   "name": "python3"
  },
  "language_info": {
   "codemirror_mode": {
    "name": "ipython",
    "version": 3
   },
   "file_extension": ".py",
   "mimetype": "text/x-python",
   "name": "python",
   "nbconvert_exporter": "python",
   "pygments_lexer": "ipython3",
   "version": "3.7.6"
  },
  "papermill": {
   "duration": 1023.035911,
   "end_time": "2021-04-03T15:39:35.050179",
   "environment_variables": {},
   "exception": null,
   "input_path": "__notebook__.ipynb",
   "output_path": "__notebook__.ipynb",
   "parameters": {},
   "start_time": "2021-04-03T15:22:32.014268",
   "version": "2.1.0"
  }
 },
 "nbformat": 4,
 "nbformat_minor": 4
}
